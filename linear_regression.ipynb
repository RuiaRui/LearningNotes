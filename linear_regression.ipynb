{
  "nbformat": 4,
  "nbformat_minor": 0,
  "metadata": {
    "kernelspec": {
      "display_name": "Python 3",
      "language": "python",
      "name": "python3"
    },
    "language_info": {
      "codemirror_mode": {
        "name": "ipython",
        "version": 3
      },
      "file_extension": ".py",
      "mimetype": "text/x-python",
      "name": "python",
      "nbconvert_exporter": "python",
      "pygments_lexer": "ipython3",
      "version": "3.7.10"
    },
    "colab": {
      "name": "linear_regression.ipynb",
      "provenance": [],
      "include_colab_link": true
    }
  },
  "cells": [
    {
      "cell_type": "markdown",
      "metadata": {
        "id": "view-in-github",
        "colab_type": "text"
      },
      "source": [
        "<a href=\"https://colab.research.google.com/github/RuiaRui/pythons/blob/main/linear_regression.ipynb\" target=\"_parent\"><img src=\"https://colab.research.google.com/assets/colab-badge.svg\" alt=\"Open In Colab\"/></a>"
      ]
    },
    {
      "cell_type": "markdown",
      "metadata": {
        "id": "8bU8SSI-b4Do"
      },
      "source": [
        "# Linear regression with Facebook data"
      ]
    },
    {
      "cell_type": "markdown",
      "metadata": {
        "id": "IvIERg85b4Ds"
      },
      "source": [
        "The data comes from Facebook pages of different companies. It was provided by:\n",
        "S. Moro, P. Rita and B. Vala; Predicting social media performance metrics and evaluation of the impact on brand building: A data mining approach; Journal of Business Research, Elsevier; 2016\n",
        "\n",
        "The input contains the following features:\n",
        "- Category: manual content characterization: action (special offers and contests), product (direct advertisement, explicit brand content), and inspiration (non-explicit brand related content)\n",
        "- Page total likes:\tNumber of people who have liked the company's page\n",
        "- Type:\tType of content (Link, Photo, Status, Video)\n",
        "- Post month: Month the post was published (January, February, March, …, December)\n",
        "- Post hour: Hour the post was published (0, 1, 2, 3, 4, …, 23)\n",
        "- Post weekday: Weekday the post was published (Sunday, Monday, …, Saturday)\n",
        "- Paid: If the company paid Facebook for advertising (yes, no)\n",
        "\n",
        "The output is (subset of the original ones):\n",
        "- Number of likes of the post\n",
        "\n",
        "Let us first load the data"
      ]
    },
    {
      "cell_type": "code",
      "metadata": {
        "id": "FShVLI8Zb4Dt"
      },
      "source": [
        "import numpy as np\n",
        "from numpy import genfromtxt\n",
        "data = genfromtxt('Facebook_metrics/facebook_all.csv', delimiter=',')\n",
        "X = data[:,:7]\n",
        "y = data[:,16]"
      ],
      "execution_count": 32,
      "outputs": []
    },
    {
      "cell_type": "markdown",
      "metadata": {
        "id": "dZAor_gTb4Dv"
      },
      "source": [
        "And split it into training and test sets (randomly in 75% - 25% proportions). For this, we will make use of a scikit-learn function."
      ]
    },
    {
      "cell_type": "code",
      "metadata": {
        "id": "YZvDU9nTb4Dv"
      },
      "source": [
        "from sklearn.model_selection import train_test_split"
      ],
      "execution_count": 33,
      "outputs": []
    },
    {
      "cell_type": "code",
      "metadata": {
        "id": "E2YHA3E6b4Dv"
      },
      "source": [
        "Xtrain,Xtest,ytrain,ytest = train_test_split(X,y,test_size=0.25,random_state=1)"
      ],
      "execution_count": 34,
      "outputs": []
    },
    {
      "cell_type": "markdown",
      "metadata": {
        "id": "WZibhujlb4Dw"
      },
      "source": [
        "To account for the bias in the model, we add a value 1 at the end of the training and test samples"
      ]
    },
    {
      "cell_type": "code",
      "metadata": {
        "id": "BXfbkmYMb4Dw"
      },
      "source": [
        "Xbtrain = np.hstack((Xtrain,np.ones((Xtrain.shape[0],1))))\n",
        "Xbtest = np.hstack((Xtest,np.ones((Xtest.shape[0],1))))"
      ],
      "execution_count": 35,
      "outputs": []
    },
    {
      "cell_type": "code",
      "metadata": {
        "colab": {
          "base_uri": "https://localhost:8080/"
        },
        "id": "cRBVEv7cj0Os",
        "outputId": "a69daa81-16f6-473e-9ad4-db2779750580"
      },
      "source": [
        "print(X.shape)\n",
        "print(y.shape)\n",
        "print(Xbtrain.shape)\n",
        "print(Xtrain.shape)"
      ],
      "execution_count": 36,
      "outputs": [
        {
          "output_type": "stream",
          "name": "stdout",
          "text": [
            "(500, 7)\n",
            "(500,)\n",
            "(375, 8)\n",
            "(375, 7)\n"
          ]
        }
      ]
    },
    {
      "cell_type": "markdown",
      "metadata": {
        "id": "KemWuGKfb4Dx"
      },
      "source": [
        "Now, compute the parameters of a linear regressor from the training data. Follow the closed-form solution that we have seen in class."
      ]
    },
    {
      "cell_type": "code",
      "metadata": {
        "colab": {
          "base_uri": "https://localhost:8080/"
        },
        "id": "qsk_Wc_8b4Dx",
        "outputId": "44fbfa3b-2b5e-4725-ec5d-359018ed7eea"
      },
      "source": [
        "#TODO\n",
        "from sklearn import linear_model\n",
        "regr=linear_model.LinearRegression()\n",
        "regr.fit(Xbtrain,ytrain)\n",
        "\n",
        "r_sq = regr.score(Xbtrain, ytrain)\n",
        "print('coefficient of determination:', r_sq)\n",
        "print('intercept:', regr.intercept_)\n",
        "print('slope:', regr.coef_)"
      ],
      "execution_count": 37,
      "outputs": [
        {
          "output_type": "stream",
          "name": "stdout",
          "text": [
            "coefficient of determination: 0.04114396463413095\n",
            "intercept: -435.94151476311384\n",
            "slope: [ 5.49004585e-03  1.70053747e+01  4.59968995e+01 -2.23094875e+01\n",
            " -8.59805513e+00 -1.96114919e+00  6.87863700e+01  0.00000000e+00]\n"
          ]
        }
      ]
    },
    {
      "cell_type": "markdown",
      "metadata": {
        "id": "9BiKOASgb4Dx"
      },
      "source": [
        "Apply the learnt model to the test data"
      ]
    },
    {
      "cell_type": "code",
      "metadata": {
        "id": "RHJPx7rJb4Dy"
      },
      "source": [
        "#TODO\n",
        "yhat=regr.predict(Xbtest)"
      ],
      "execution_count": 38,
      "outputs": []
    },
    {
      "cell_type": "markdown",
      "metadata": {
        "id": "iKX2g92hb4Dy"
      },
      "source": [
        "And compute the root mean squared error of the predictions (I assume that the predictions are stored in yhat)"
      ]
    },
    {
      "cell_type": "code",
      "metadata": {
        "id": "Azn6NqKDb4Dy",
        "colab": {
          "base_uri": "https://localhost:8080/"
        },
        "outputId": "42392cdf-2716-4dfe-d851-06bcbc508dc8"
      },
      "source": [
        "err = np.sqrt(np.mean((yhat-ytest)**2))\n",
        "print(\"RMSE =\",err)"
      ],
      "execution_count": 39,
      "outputs": [
        {
          "output_type": "stream",
          "name": "stdout",
          "text": [
            "RMSE = 296.21411505659125\n"
          ]
        }
      ]
    },
    {
      "cell_type": "code",
      "metadata": {
        "colab": {
          "base_uri": "https://localhost:8080/",
          "height": 252
        },
        "id": "7ziwoS8KhnQw",
        "outputId": "0aa238bb-07d9-4cc7-babb-0296d792e31e"
      },
      "source": [
        "# Plot outputs\n",
        "import matplotlib.pyplot as plt\n",
        "plt.plot(Xtest, ytest,  color='black')\n",
        "plt.plot(Xtest, yhat, color='blue', linewidth=3)\n",
        "\n",
        "plt.xticks(())\n",
        "plt.yticks(())\n",
        "\n",
        "plt.show()"
      ],
      "execution_count": 40,
      "outputs": [
        {
          "output_type": "display_data",
          "data": {
            "image/png": "[encoded data removed]",
            "text/plain": [
              "<Figure size 432x288 with 1 Axes>"
            ]
          },
          "metadata": {}
        }
      ]
    }
  ]
}